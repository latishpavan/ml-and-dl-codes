{
 "cells": [
  {
   "cell_type": "code",
   "execution_count": 1,
   "metadata": {},
   "outputs": [],
   "source": [
    "def load_doc(filename):\n",
    "    file = open(filename, \"r\")\n",
    "    text = file.read()\n",
    "    file.close()\n",
    "    return text"
   ]
  },
  {
   "cell_type": "code",
   "execution_count": 3,
   "metadata": {
    "scrolled": false
   },
   "outputs": [
    {
     "name": "stdout",
     "output_type": "stream",
     "text": [
      "Sing a song of sixpence,\n",
      "A pocket full of rye.\n",
      "Four and twenty blackbirds,\n",
      "Baked in a pie.\n",
      "\n",
      "When the pie was opened\n",
      "The birds began to sing;\n",
      "Wasn’t that a dainty dish,\n",
      "To set before the king.\n",
      "\n",
      "The king was in his counting house,\n",
      "Counting out his money;\n",
      "The queen was in the parlour,\n",
      "Eating bread and honey.\n",
      "\n",
      "The maid was in the garden,\n",
      "Hanging out the clothes,\n",
      "When down came a blackbird\n",
      "And pecked off her nose.\n"
     ]
    }
   ],
   "source": [
    "raw_text = load_doc(\"rhyme.txt\")\n",
    "print(raw_text)"
   ]
  },
  {
   "cell_type": "code",
   "execution_count": 5,
   "metadata": {},
   "outputs": [
    {
     "name": "stdout",
     "output_type": "stream",
     "text": [
      "Sing a song of sixpence, A pocket full of rye. Four and twenty blackbirds, Baked in a pie. When the pie was opened The birds began to sing; Wasn’t that a dainty dish, To set before the king. The king was in his counting house, Counting out his money; The queen was in the parlour, Eating bread and honey. The maid was in the garden, Hanging out the clothes, When down came a blackbird And pecked off her nose.\n"
     ]
    }
   ],
   "source": [
    "tokens = raw_text.split()\n",
    "text = ' '.join(tokens)\n",
    "print(text)"
   ]
  },
  {
   "cell_type": "code",
   "execution_count": 7,
   "metadata": {},
   "outputs": [
    {
     "name": "stdout",
     "output_type": "stream",
     "text": [
      "Total length of sequences is 399\n"
     ]
    }
   ],
   "source": [
    "length = 10\n",
    "sequences = []\n",
    "for i in range(length, len(text)):\n",
    "    seq = text[i-length: i+1]\n",
    "    sequences.append(seq)\n",
    "\n",
    "print('Total length of sequences is {}'.format(len(sequences)))"
   ]
  },
  {
   "cell_type": "code",
   "execution_count": 18,
   "metadata": {},
   "outputs": [
    {
     "name": "stdout",
     "output_type": "stream",
     "text": [
      "{'c': 16, 'S': 11, 'r': 30, 'm': 25, ' ': 1, 'q': 29, 'p': 28, 'f': 19, 'a': 14, 'u': 33, 'F': 9, 'W': 13, 'i': 22, 'h': 21, 'l': 24, '.': 3, 'o': 27, 't': 32, ',': 2, 'd': 17, 'B': 6, 'g': 20, 'A': 5, 'b': 15, ';': 4, 'H': 10, 'E': 8, 'w': 34, 'y': 36, 'n': 26, '\\n': 0, 'k': 23, '’': 37, 'T': 12, 'C': 7, 'x': 35, 'e': 18, 's': 31}\n"
     ]
    }
   ],
   "source": [
    "char_map = {c: i for i, c in enumerate(sorted(set(raw_text)))}\n",
    "print(char_map)"
   ]
  },
  {
   "cell_type": "code",
   "execution_count": 29,
   "metadata": {},
   "outputs": [],
   "source": [
    "s = \"latish\"\n",
    "a = '123456'\n",
    "trans = str.maketrans(s, a)"
   ]
  },
  {
   "cell_type": "code",
   "execution_count": 25,
   "metadata": {},
   "outputs": [
    {
     "data": {
      "text/plain": [
       "'Sing a song'"
      ]
     },
     "execution_count": 25,
     "metadata": {},
     "output_type": "execute_result"
    }
   ],
   "source": [
    "reverse = {v: k for k, v in char_map.items()}\n",
    "sequences[0].translate()"
   ]
  },
  {
   "cell_type": "code",
   "execution_count": 32,
   "metadata": {},
   "outputs": [],
   "source": [
    "encoded_seq = []\n",
    "for line in sequences:\n",
    "    seq = [char_map[ch] for ch in line]\n",
    "    encoded_seq.append(seq)"
   ]
  },
  {
   "cell_type": "code",
   "execution_count": 34,
   "metadata": {},
   "outputs": [],
   "source": [
    "import numpy as np\n",
    "sequences = np.array(encoded_seq)\n",
    "X, y = sequences[:, :-1], sequences[:, -1]"
   ]
  },
  {
   "cell_type": "code",
   "execution_count": 37,
   "metadata": {},
   "outputs": [],
   "source": [
    "vocab_size = len(char_map)\n",
    "from keras.utils import to_categorical\n",
    "seqs = [to_categorical(x, num_classes=vocab_size) for x in X]\n",
    "X = np.array(seqs)\n",
    "y = to_categorical(y, num_classes=vocab_size)"
   ]
  },
  {
   "cell_type": "code",
   "execution_count": 46,
   "metadata": {},
   "outputs": [],
   "source": [
    "from keras.models import Sequential\n",
    "from keras.layers import Dense, LSTM"
   ]
  },
  {
   "cell_type": "code",
   "execution_count": 48,
   "metadata": {},
   "outputs": [
    {
     "name": "stdout",
     "output_type": "stream",
     "text": [
      "_________________________________________________________________\n",
      "Layer (type)                 Output Shape              Param #   \n",
      "=================================================================\n",
      "lstm_2 (LSTM)                (None, 75)                34200     \n",
      "_________________________________________________________________\n",
      "dense_1 (Dense)              (None, 38)                2888      \n",
      "=================================================================\n",
      "Total params: 37,088\n",
      "Trainable params: 37,088\n",
      "Non-trainable params: 0\n",
      "_________________________________________________________________\n",
      "None\n"
     ]
    }
   ],
   "source": [
    "model = Sequential()[\n",
    "model.add(LSTM(75, input_shape=(X.shape[1], X.shape[2])))]\n",
    "model.add(Dense(vocab_size, activation='softmax \n",
    "print(model.summary())"
   ]
  },
  {
   "cell_type": "code",
   "execution_count": 49,
   "metadata": {
    "scrolled": true
   },
   "outputs": [
    {
     "name": "stdout",
     "output_type": "stream",
     "text": [
      "Epoch 1/100\n",
      "1s - loss: 3.6125 - acc: 0.1153\n",
      "Epoch 2/100\n",
      "0s - loss: 3.5081 - acc: 0.1880\n",
      "Epoch 3/100\n",
      "0s - loss: 3.1857 - acc: 0.1905\n",
      "Epoch 4/100\n",
      "0s - loss: 3.0740 - acc: 0.1905\n",
      "Epoch 5/100\n",
      "0s - loss: 3.0267 - acc: 0.1905\n",
      "Epoch 6/100\n",
      "0s - loss: 3.0005 - acc: 0.1905\n",
      "Epoch 7/100\n",
      "0s - loss: 2.9901 - acc: 0.1905\n",
      "Epoch 8/100\n",
      "0s - loss: 2.9704 - acc: 0.1905\n",
      "Epoch 9/100\n",
      "0s - loss: 2.9577 - acc: 0.1905\n",
      "Epoch 10/100\n",
      "0s - loss: 2.9424 - acc: 0.1905\n",
      "Epoch 11/100\n",
      "0s - loss: 2.9243 - acc: 0.1905\n",
      "Epoch 12/100\n",
      "0s - loss: 2.9063 - acc: 0.1905\n",
      "Epoch 13/100\n",
      "0s - loss: 2.8866 - acc: 0.2256\n",
      "Epoch 14/100\n",
      "0s - loss: 2.8639 - acc: 0.1980\n",
      "Epoch 15/100\n",
      "0s - loss: 2.8177 - acc: 0.2155\n",
      "Epoch 16/100\n",
      "0s - loss: 2.7867 - acc: 0.2080\n",
      "Epoch 17/100\n",
      "0s - loss: 2.7405 - acc: 0.2456\n",
      "Epoch 18/100\n",
      "0s - loss: 2.6941 - acc: 0.2556\n",
      "Epoch 19/100\n",
      "0s - loss: 2.6604 - acc: 0.2381\n",
      "Epoch 20/100\n",
      "0s - loss: 2.6526 - acc: 0.2556\n",
      "Epoch 21/100\n",
      "0s - loss: 2.5810 - acc: 0.2907\n",
      "Epoch 22/100\n",
      "0s - loss: 2.5429 - acc: 0.2807\n",
      "Epoch 23/100\n",
      "0s - loss: 2.4968 - acc: 0.3083\n",
      "Epoch 24/100\n",
      "0s - loss: 2.4556 - acc: 0.3133\n",
      "Epoch 25/100\n",
      "0s - loss: 2.3918 - acc: 0.3233\n",
      "Epoch 26/100\n",
      "0s - loss: 2.3508 - acc: 0.3409\n",
      "Epoch 27/100\n",
      "0s - loss: 2.3033 - acc: 0.3308\n",
      "Epoch 28/100\n",
      "0s - loss: 2.2744 - acc: 0.3784\n",
      "Epoch 29/100\n",
      "0s - loss: 2.2240 - acc: 0.3759\n",
      "Epoch 30/100\n",
      "0s - loss: 2.1633 - acc: 0.3784\n",
      "Epoch 31/100\n",
      "0s - loss: 2.1326 - acc: 0.4060\n",
      "Epoch 32/100\n",
      "0s - loss: 2.0979 - acc: 0.3910\n",
      "Epoch 33/100\n",
      "0s - loss: 2.0465 - acc: 0.4160\n",
      "Epoch 34/100\n",
      "0s - loss: 2.0082 - acc: 0.4311\n",
      "Epoch 35/100\n",
      "0s - loss: 1.9470 - acc: 0.4662\n",
      "Epoch 36/100\n",
      "0s - loss: 1.9198 - acc: 0.4261\n",
      "Epoch 37/100\n",
      "0s - loss: 1.8642 - acc: 0.4687\n",
      "Epoch 38/100\n",
      "0s - loss: 1.8376 - acc: 0.4662\n",
      "Epoch 39/100\n",
      "0s - loss: 1.7631 - acc: 0.4987\n",
      "Epoch 40/100\n",
      "0s - loss: 1.7435 - acc: 0.5113\n",
      "Epoch 41/100\n",
      "0s - loss: 1.7119 - acc: 0.4962\n",
      "Epoch 42/100\n",
      "0s - loss: 1.6763 - acc: 0.5363\n",
      "Epoch 43/100\n",
      "0s - loss: 1.6154 - acc: 0.5664\n",
      "Epoch 44/100\n",
      "0s - loss: 1.5711 - acc: 0.5764\n",
      "Epoch 45/100\n",
      "0s - loss: 1.5295 - acc: 0.5940\n",
      "Epoch 46/100\n",
      "0s - loss: 1.5091 - acc: 0.6015\n",
      "Epoch 47/100\n",
      "0s - loss: 1.4989 - acc: 0.5890\n",
      "Epoch 48/100\n",
      "0s - loss: 1.4733 - acc: 0.6015\n",
      "Epoch 49/100\n",
      "0s - loss: 1.4274 - acc: 0.6216\n",
      "Epoch 50/100\n",
      "0s - loss: 1.3532 - acc: 0.6541\n",
      "Epoch 51/100\n",
      "0s - loss: 1.3453 - acc: 0.6491\n",
      "Epoch 52/100\n",
      "0s - loss: 1.2858 - acc: 0.6717\n",
      "Epoch 53/100\n",
      "0s - loss: 1.2454 - acc: 0.6892\n",
      "Epoch 54/100\n",
      "0s - loss: 1.1999 - acc: 0.7093\n",
      "Epoch 55/100\n",
      "0s - loss: 1.1794 - acc: 0.6967\n",
      "Epoch 56/100\n",
      "0s - loss: 1.1424 - acc: 0.7343\n",
      "Epoch 57/100\n",
      "0s - loss: 1.1318 - acc: 0.7018\n",
      "Epoch 58/100\n",
      "0s - loss: 1.0688 - acc: 0.7669\n",
      "Epoch 59/100\n",
      "0s - loss: 1.0362 - acc: 0.7794\n",
      "Epoch 60/100\n",
      "0s - loss: 1.0084 - acc: 0.7895\n",
      "Epoch 61/100\n",
      "0s - loss: 0.9732 - acc: 0.7995\n",
      "Epoch 62/100\n",
      "0s - loss: 0.9607 - acc: 0.7945\n",
      "Epoch 63/100\n",
      "0s - loss: 0.9245 - acc: 0.8246\n",
      "Epoch 64/100\n",
      "0s - loss: 0.8828 - acc: 0.8120\n",
      "Epoch 65/100\n",
      "0s - loss: 0.8517 - acc: 0.8471\n",
      "Epoch 66/100\n",
      "0s - loss: 0.8364 - acc: 0.8496\n",
      "Epoch 67/100\n",
      "0s - loss: 0.8326 - acc: 0.8697\n",
      "Epoch 68/100\n",
      "0s - loss: 0.7855 - acc: 0.8571\n",
      "Epoch 69/100\n",
      "0s - loss: 0.7409 - acc: 0.8822\n",
      "Epoch 70/100\n",
      "0s - loss: 0.7131 - acc: 0.8772\n",
      "Epoch 71/100\n",
      "0s - loss: 0.7041 - acc: 0.8897\n",
      "Epoch 72/100\n",
      "0s - loss: 0.6831 - acc: 0.9048\n",
      "Epoch 73/100\n",
      "0s - loss: 0.6392 - acc: 0.9273\n",
      "Epoch 74/100\n",
      "0s - loss: 0.6145 - acc: 0.9373\n",
      "Epoch 75/100\n",
      "0s - loss: 0.5911 - acc: 0.9323\n",
      "Epoch 76/100\n",
      "0s - loss: 0.5621 - acc: 0.9474\n",
      "Epoch 77/100\n",
      "0s - loss: 0.5549 - acc: 0.9474\n",
      "Epoch 78/100\n",
      "0s - loss: 0.5350 - acc: 0.9348\n",
      "Epoch 79/100\n",
      "0s - loss: 0.5211 - acc: 0.9524\n",
      "Epoch 80/100\n",
      "0s - loss: 0.4939 - acc: 0.9624\n",
      "Epoch 81/100\n",
      "0s - loss: 0.4787 - acc: 0.9674\n",
      "Epoch 82/100\n",
      "0s - loss: 0.4518 - acc: 0.9699\n",
      "Epoch 83/100\n",
      "0s - loss: 0.4314 - acc: 0.9724\n",
      "Epoch 84/100\n",
      "0s - loss: 0.4192 - acc: 0.9774\n",
      "Epoch 85/100\n",
      "0s - loss: 0.4078 - acc: 0.9674\n",
      "Epoch 86/100\n",
      "0s - loss: 0.3959 - acc: 0.9799\n",
      "Epoch 87/100\n",
      "0s - loss: 0.3716 - acc: 0.9674\n",
      "Epoch 88/100\n",
      "0s - loss: 0.3644 - acc: 0.9825\n",
      "Epoch 89/100\n",
      "0s - loss: 0.3426 - acc: 0.9875\n",
      "Epoch 90/100\n",
      "0s - loss: 0.3295 - acc: 0.9875\n",
      "Epoch 91/100\n",
      "0s - loss: 0.3190 - acc: 0.9875\n",
      "Epoch 92/100\n",
      "0s - loss: 0.3039 - acc: 0.9875\n",
      "Epoch 93/100\n",
      "0s - loss: 0.2932 - acc: 0.9925\n",
      "Epoch 94/100\n",
      "0s - loss: 0.2821 - acc: 0.9900\n",
      "Epoch 95/100\n",
      "0s - loss: 0.2691 - acc: 0.9875\n",
      "Epoch 96/100\n",
      "0s - loss: 0.2583 - acc: 0.9875\n",
      "Epoch 97/100\n",
      "0s - loss: 0.2487 - acc: 0.9925\n",
      "Epoch 98/100\n",
      "0s - loss: 0.2371 - acc: 0.9925\n",
      "Epoch 99/100\n",
      "0s - loss: 0.2370 - acc: 0.9950\n",
      "Epoch 100/100\n",
      "0s - loss: 0.2245 - acc: 0.9925\n"
     ]
    },
    {
     "data": {
      "text/plain": [
       "<keras.callbacks.History at 0x16e3adb3f98>"
      ]
     },
     "execution_count": 49,
     "metadata": {},
     "output_type": "execute_result"
    }
   ],
   "source": [
    "model.compile(loss='categorical_crossentropy', optimizer=\"adam\", metrics=[\"accuracy\"])\n",
    "model.fit(X, y, epochs=100, verbose=2)"
   ]
  },
  {
   "cell_type": "code",
   "execution_count": 50,
   "metadata": {},
   "outputs": [],
   "source": [
    "model.save('char_level_lstm.h5')\n",
    "from pickle import dump\n",
    "dump(char_map, open(\"mapping.pkl\", \"wb\"))"
   ]
  },
  {
   "cell_type": "code",
   "execution_count": 55,
   "metadata": {},
   "outputs": [],
   "source": [
    "from keras.preprocessing.sequence import pad_sequences\n",
    "\n",
    "def generate_seq(model, mapping, n_chars, seed_text, seq_len):\n",
    "    in_text = seed_text\n",
    "    reverse_map = {v: k for k, v in mapping.items()}\n",
    "    \n",
    "    for _ in range(n_chars):\n",
    "        encoded = [mapping[char] for char in in_text]\n",
    "        encoded = pad_sequences([encoded], maxlen=seq_len, truncating='pre')\n",
    "        encoded = to_categorical(encoded, num_classes=len(mapping))\n",
    "        encoded = encoded.reshape(1, encoded.shape[0], encoded.shape[1])\n",
    "        y_hat = model.predict_classes(encoded, verbose=0)\n",
    "       # print(y_hat)\n",
    "        \n",
    "        out_char = reverse_map[y_hat[0]]\n",
    "        in_text += out_char\n",
    "    \n",
    "    return in_text"
   ]
  },
  {
   "cell_type": "code",
   "execution_count": 57,
   "metadata": {},
   "outputs": [
    {
     "name": "stdout",
     "output_type": "stream",
     "text": [
      "Sing a song of sixpence, A pocket full o\n"
     ]
    }
   ],
   "source": [
    "print(generate_seq(model, char_map, 30, \"Sing a son\", 10))"
   ]
  },
  {
   "cell_type": "code",
   "execution_count": null,
   "metadata": {},
   "outputs": [],
   "source": []
  }
 ],
 "metadata": {
  "anaconda-cloud": {},
  "kernelspec": {
   "display_name": "Python [conda root]",
   "language": "python",
   "name": "conda-root-py"
  },
  "language_info": {
   "codemirror_mode": {
    "name": "ipython",
    "version": 3
   },
   "file_extension": ".py",
   "mimetype": "text/x-python",
   "name": "python",
   "nbconvert_exporter": "python",
   "pygments_lexer": "ipython3",
   "version": "3.5.2"
  }
 },
 "nbformat": 4,
 "nbformat_minor": 2
}
