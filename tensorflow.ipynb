{
 "cells": [
  {
   "cell_type": "code",
   "execution_count": 1,
   "metadata": {},
   "outputs": [],
   "source": [
    "import tensorflow as tf"
   ]
  },
  {
   "cell_type": "code",
   "execution_count": 2,
   "metadata": {},
   "outputs": [
    {
     "name": "stdout",
     "output_type": "stream",
     "text": [
      "Tensor(\"Const:0\", shape=(), dtype=int64) Tensor(\"Const_1:0\", shape=(), dtype=int64)\n"
     ]
    }
   ],
   "source": [
    "node1 = tf.constant(6, dtype=tf.int64)\n",
    "node2 = tf.constant(7, dtype=tf.int64)\n",
    "\n",
    "print(node1, node2)"
   ]
  },
  {
   "cell_type": "code",
   "execution_count": 3,
   "metadata": {},
   "outputs": [
    {
     "name": "stdout",
     "output_type": "stream",
     "text": [
      "[6, 7]\n"
     ]
    }
   ],
   "source": [
    "with tf.Session() as sess:\n",
    "    out = sess.run([node1, node2])\n",
    "    print(out)"
   ]
  },
  {
   "cell_type": "code",
   "execution_count": 4,
   "metadata": {},
   "outputs": [
    {
     "data": {
      "text/plain": [
       "(13,)"
      ]
     },
     "execution_count": 4,
     "metadata": {},
     "output_type": "execute_result"
    }
   ],
   "source": [
    "node3 = tf.add(node1, node2)\n",
    "\n",
    "def run_session(*args):\n",
    "    with tf.Session() as sess:\n",
    "        out = sess.run(args)\n",
    "        return out\n",
    "\n",
    "run_session(node3)"
   ]
  },
  {
   "cell_type": "code",
   "execution_count": 8,
   "metadata": {},
   "outputs": [
    {
     "name": "stdout",
     "output_type": "stream",
     "text": [
      "[array([ 15.,  24.], dtype=float32)]\n"
     ]
    }
   ],
   "source": [
    "a = tf.placeholder(tf.float32)\n",
    "b = tf.placeholder(tf.float32)\n",
    "\n",
    "res = a + b\n",
    "mult = res * 3\n",
    "\n",
    "with tf.Session() as sess:\n",
    "    values = {a: [1, 3], b: [4, 5]}\n",
    "    out = sess.run([mult], feed_dict=values)\n",
    "    print(out)"
   ]
  },
  {
   "cell_type": "code",
   "execution_count": 14,
   "metadata": {},
   "outputs": [
    {
     "name": "stdout",
     "output_type": "stream",
     "text": [
      "205.25\n"
     ]
    }
   ],
   "source": [
    "w = tf.Variable([0.3], dtype=tf.float32)\n",
    "b = tf.Variable([-0.3], dtype=tf.float32)\n",
    "x = tf.placeholder(dtype=tf.float32)\n",
    "y = tf.placeholder(dtype=tf.float32)\n",
    "\n",
    "predicted_y = w*x + b\n",
    "squared_loss = tf.square(predicted_y - y)\n",
    "loss = tf.reduce_sum(squared_loss)\n",
    "\n",
    "with tf.Session() as sess:\n",
    "    init = tf.global_variables_initializer()\n",
    "    sess.run(init)\n",
    "    values = {x: [1, 2, 3], y: [4, 8, 12]}\n",
    "    out = sess.run(loss, feed_dict=values)\n",
    "    print(out)"
   ]
  },
  {
   "cell_type": "code",
   "execution_count": 17,
   "metadata": {},
   "outputs": [
    {
     "name": "stdout",
     "output_type": "stream",
     "text": [
      "0.0\n"
     ]
    }
   ],
   "source": [
    "fixX = w.assign([4.0])\n",
    "fixB = b.assign([0.0])\n",
    "\n",
    "sess = tf.Session()\n",
    "sess.run([fixX, fixB])\n",
    "out = sess.run(loss, feed_dict=values)\n",
    "print(out)"
   ]
  },
  {
   "cell_type": "code",
   "execution_count": 19,
   "metadata": {},
   "outputs": [
    {
     "name": "stdout",
     "output_type": "stream",
     "text": [
      "[array([ 3.99964809], dtype=float32), array([ 0.00079993], dtype=float32)]\n"
     ]
    }
   ],
   "source": [
    "optimizer = tf.train.GradientDescentOptimizer(0.01)\n",
    "train = optimizer.minimize(loss)\n",
    "\n",
    "sess.run(init)\n",
    "for i in range(1000):\n",
    "    sess.run(train, feed_dict=values)\n",
    "\n",
    "print(sess.run([w, b]))"
   ]
  },
  {
   "cell_type": "code",
   "execution_count": 20,
   "metadata": {},
   "outputs": [],
   "source": [
    "sess.close()"
   ]
  },
  {
   "cell_type": "code",
   "execution_count": 51,
   "metadata": {},
   "outputs": [
    {
     "name": "stdout",
     "output_type": "stream",
     "text": [
      "[array([ 2.00000215], dtype=float32), array([ 9.99999619], dtype=float32), 8.2764018e-11]\n"
     ]
    }
   ],
   "source": [
    "## complete linear regression with tensorflow\n",
    "import numpy as np\n",
    "np.random.seed(0)\n",
    "\n",
    "x_train = np.random.randn(10)\n",
    "y_train = 2 * x_train + 10\n",
    "\n",
    "x = tf.placeholder(dtype=tf.float32)\n",
    "y = tf.placeholder(dtype=tf.float32)\n",
    "W = tf.Variable(tf.random_normal((1, )), dtype=tf.float32)\n",
    "b = tf.Variable(tf.random_normal((1, )), dtype=tf.float32)\n",
    "\n",
    "pred_y = W * x + b\n",
    "squared_loss = tf.square(pred_y - y)\n",
    "loss = tf.reduce_sum(squared_loss)\n",
    "\n",
    "optimizer = tf.train.GradientDescentOptimizer(0.01)\n",
    "train = optimizer.minimize(loss)\n",
    "\n",
    "epochs = 1000\n",
    "\n",
    "sess = tf.Session()\n",
    "init = tf.global_variables_initializer()\n",
    "sess.run(init)\n",
    "\n",
    "for i in range(epochs):\n",
    "    sess.run(train, {x: x_train, y: y_train})\n",
    "\n",
    "print(sess.run([W, b, loss], {x: x_train, y: y_train}))\n",
    "sess.close()"
   ]
  },
  {
   "cell_type": "code",
   "execution_count": 52,
   "metadata": {},
   "outputs": [
    {
     "data": {
      "text/plain": [
       "<tf.Tensor 'random_normal_60:0' shape=(10,) dtype=float32>"
      ]
     },
     "execution_count": 52,
     "metadata": {},
     "output_type": "execute_result"
    }
   ],
   "source": [
    "tf.random_normal((10, ))"
   ]
  },
  {
   "cell_type": "code",
   "execution_count": 56,
   "metadata": {},
   "outputs": [
    {
     "name": "stdout",
     "output_type": "stream",
     "text": [
      "INFO:tensorflow:Using default config.\n",
      "WARNING:tensorflow:Using temporary folder as model directory: C:\\Users\\Personal\\AppData\\Local\\Temp\\tmp3q3vrres\n",
      "INFO:tensorflow:Using config: {'_model_dir': 'C:\\\\Users\\\\Personal\\\\AppData\\\\Local\\\\Temp\\\\tmp3q3vrres', '_save_checkpoints_secs': 600, '_save_checkpoints_steps': None, '_tf_random_seed': 1, '_keep_checkpoint_max': 5, '_keep_checkpoint_every_n_hours': 10000, '_session_config': None, '_save_summary_steps': 100}\n",
      "INFO:tensorflow:Create CheckpointSaverHook.\n",
      "INFO:tensorflow:Saving checkpoints for 1 into C:\\Users\\Personal\\AppData\\Local\\Temp\\tmp3q3vrres\\model.ckpt.\n",
      "INFO:tensorflow:step = 1, loss = 10.8243056552\n",
      "INFO:tensorflow:global_step/sec: 720.429\n",
      "INFO:tensorflow:step = 101, loss = 0.0300799469592 (0.140 sec)\n",
      "INFO:tensorflow:global_step/sec: 815.747\n",
      "INFO:tensorflow:step = 201, loss = 0.00270277654583 (0.122 sec)\n",
      "INFO:tensorflow:global_step/sec: 861.457\n",
      "INFO:tensorflow:step = 301, loss = 0.000242852856975 (0.117 sec)\n",
      "INFO:tensorflow:global_step/sec: 780.689\n",
      "INFO:tensorflow:step = 401, loss = 2.18210825575e-05 (0.128 sec)\n",
      "INFO:tensorflow:global_step/sec: 796.25\n",
      "INFO:tensorflow:step = 501, loss = 1.96069195937e-06 (0.127 sec)\n",
      "INFO:tensorflow:global_step/sec: 912.599\n",
      "INFO:tensorflow:step = 601, loss = 1.76174254847e-07 (0.109 sec)\n",
      "INFO:tensorflow:global_step/sec: 829.283\n",
      "INFO:tensorflow:step = 701, loss = 1.58298033114e-08 (0.121 sec)\n",
      "INFO:tensorflow:global_step/sec: 896.228\n",
      "INFO:tensorflow:step = 801, loss = 1.42235693343e-09 (0.112 sec)\n",
      "INFO:tensorflow:global_step/sec: 796.247\n",
      "INFO:tensorflow:step = 901, loss = 1.27803182792e-10 (0.128 sec)\n",
      "INFO:tensorflow:Saving checkpoints for 1000 into C:\\Users\\Personal\\AppData\\Local\\Temp\\tmp3q3vrres\\model.ckpt.\n",
      "INFO:tensorflow:Loss for final step: 1.17635773979e-11.\n",
      "INFO:tensorflow:Starting evaluation at 2017-12-29-09:39:58\n",
      "INFO:tensorflow:Restoring parameters from C:\\Users\\Personal\\AppData\\Local\\Temp\\tmp3q3vrres\\model.ckpt-1000\n",
      "INFO:tensorflow:Finished evaluation at 2017-12-29-09:39:59\n",
      "INFO:tensorflow:Saving dict for global step 1000: global_step = 1000, loss = 1.14835e-11\n",
      "INFO:tensorflow:Starting evaluation at 2017-12-29-09:40:00\n",
      "INFO:tensorflow:Restoring parameters from C:\\Users\\Personal\\AppData\\Local\\Temp\\tmp3q3vrres\\model.ckpt-1000\n",
      "INFO:tensorflow:Finished evaluation at 2017-12-29-09:40:01\n",
      "INFO:tensorflow:Saving dict for global step 1000: global_step = 1000, loss = 0.0101005\n",
      "train metrics: {'global_step': 1000, 'loss': 1.1483478e-11}\n",
      "eval metrics: {'global_step': 1000, 'loss': 0.010100453}\n"
     ]
    }
   ],
   "source": [
    "def model_fn(features, labels, mode):\n",
    "    W = tf.get_variable(\"W\", [1], dtype=tf.float64)\n",
    "    b = tf.get_variable(\"b\", [1], dtype=tf.float64)\n",
    "    \n",
    "    y = W*features['x'] + b\n",
    "    \n",
    "    loss = tf.reduce_sum(tf.square(labels - y))\n",
    "    \n",
    "    global_step = tf.train.get_global_step()\n",
    "    optimizer = tf.train.GradientDescentOptimizer(0.01)\n",
    "    train = tf.group(optimizer.minimize(loss), tf.assign_add(global_step, 1))\n",
    "    \n",
    "    return tf.estimator.EstimatorSpec(\n",
    "        mode=mode,\n",
    "        predictions=y,\n",
    "        loss=loss,\n",
    "        train_op=train\n",
    "    )\n",
    "\n",
    "estimator = tf.estimator.Estimator(model_fn=model_fn)\n",
    "x_train = np.array([1., 2., 3., 4.])\n",
    "y_train = np.array([0., -1., -2., -3.])\n",
    "x_eval = np.array([2., 5., 8., 1.])\n",
    "y_eval = np.array([-1.01, -4.1, -7., 0.])\n",
    "\n",
    "train_input_fn = tf.estimator.inputs.numpy_input_fn(\n",
    "    {\"x\": x_train}, y_train, batch_size=4, num_epochs=1000, shuffle=False)\n",
    "eval_input_fn = tf.estimator.inputs.numpy_input_fn(\n",
    "    {\"x\": x_eval}, y_eval, batch_size=4, num_epochs=1000, shuffle=False)\n",
    "\n",
    "# train\n",
    "estimator.train(input_fn=train_input_fn, steps=1000)\n",
    "# Here we evaluate how well our model did.\n",
    "train_metrics = estimator.evaluate(input_fn=train_input_fn)\n",
    "eval_metrics = estimator.evaluate(input_fn=eval_input_fn)\n",
    "print(\"train metrics: %r\"% train_metrics)\n",
    "print(\"eval metrics: %r\"% eval_metrics)"
   ]
  },
  {
   "cell_type": "code",
   "execution_count": 57,
   "metadata": {},
   "outputs": [
    {
     "name": "stdout",
     "output_type": "stream",
     "text": [
      "Successfully downloaded train-images-idx3-ubyte.gz 9912422 bytes.\n",
      "Extracting MNIST_data/train-images-idx3-ubyte.gz\n",
      "Successfully downloaded train-labels-idx1-ubyte.gz 28881 bytes.\n",
      "Extracting MNIST_data/train-labels-idx1-ubyte.gz\n",
      "Successfully downloaded t10k-images-idx3-ubyte.gz 1648877 bytes.\n",
      "Extracting MNIST_data/t10k-images-idx3-ubyte.gz\n",
      "Successfully downloaded t10k-labels-idx1-ubyte.gz 4542 bytes.\n",
      "Extracting MNIST_data/t10k-labels-idx1-ubyte.gz\n"
     ]
    }
   ],
   "source": [
    "from tensorflow.examples.tutorials.mnist import input_data\n",
    "mnist = input_data.read_data_sets(\"MNIST_data/\", one_hot=True)"
   ]
  },
  {
   "cell_type": "code",
   "execution_count": null,
   "metadata": {},
   "outputs": [],
   "source": []
  }
 ],
 "metadata": {
  "anaconda-cloud": {},
  "kernelspec": {
   "display_name": "Python [conda root]",
   "language": "python",
   "name": "conda-root-py"
  },
  "language_info": {
   "codemirror_mode": {
    "name": "ipython",
    "version": 3
   },
   "file_extension": ".py",
   "mimetype": "text/x-python",
   "name": "python",
   "nbconvert_exporter": "python",
   "pygments_lexer": "ipython3",
   "version": "3.5.2"
  }
 },
 "nbformat": 4,
 "nbformat_minor": 2
}
